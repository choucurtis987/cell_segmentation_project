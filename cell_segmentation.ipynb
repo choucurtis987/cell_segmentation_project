{
 "cells": [
  {
   "cell_type": "markdown",
   "metadata": {
    "id": "D5bnFcp2AE4T"
   },
   "source": [
    "## Dataset Link:\n",
    "- https://www.kaggle.com/c/data-science-bowl-2018/data\n",
    "- NOTE: instructions for Kaggle competition were not followed, this is code was done during my Community College Internship (CCI) at Lawrence Berkeley National Lab (LBNL) as a prerequisite to my research. This code displays similar work done with similar processes and the same model. My code for the research done during the internship could not be shared as it contained confidential data. "
   ]
  },
  {
   "cell_type": "markdown",
   "metadata": {
    "id": "MI9NcauXoyr-"
   },
   "source": [
    "### Google Colab Setup:"
   ]
  },
  {
   "cell_type": "code",
   "execution_count": 5,
   "metadata": {
    "id": "j2VH0l6Pn-Md"
   },
   "outputs": [],
   "source": [
    "# from google.colab import drive\n",
    "# drive.mount('/content/drive')\n",
    "\n",
    "# !mkdir test\n",
    "# %cd test\n",
    "# !unzip \"/content/drive/My Drive/stage1_test.zip\"\n",
    "\n",
    "# %cd ..\n",
    "# !mkdir train\n",
    "# %cd train\n",
    "# !unzip \"/content/drive/My Drive/stage1_train.zip\"\n",
    "# %cd .."
   ]
  },
  {
   "cell_type": "markdown",
   "metadata": {},
   "source": [
    "### Local Setup:"
   ]
  },
  {
   "cell_type": "code",
   "execution_count": 6,
   "metadata": {},
   "outputs": [],
   "source": [
    "!mkdir test\n",
    "%cd test\n",
    "!unzip \"../stage1_test.zip\"\n",
    "\n",
    "%cd ..\n",
    "!mkdir train\n",
    "%cd train\n",
    "!unzip \"../stage1_train.zip\"\n",
    "%cd .."
   ]
  },
  {
   "cell_type": "code",
   "execution_count": 7,
   "metadata": {
    "colab": {
     "base_uri": "https://localhost:8080/"
    },
    "id": "9Iwbcas0oe-u",
    "outputId": "81834794-fd4a-4743-cbc8-5b27f264cdb1"
   },
   "outputs": [
    {
     "name": "stdout",
     "output_type": "stream",
     "text": [
      "README.md               stage1_test.zip         \u001b[34mtest\u001b[m\u001b[m\r\n",
      "cell_segmentation.ipynb stage1_train.zip        \u001b[34mtrain\u001b[m\u001b[m\r\n"
     ]
    }
   ],
   "source": [
    "# check to see that train and test folder has been created:\n",
    "!ls"
   ]
  },
  {
   "cell_type": "code",
   "execution_count": 8,
   "metadata": {
    "id": "tBQnjUbWsEW-"
   },
   "outputs": [],
   "source": [
    "import tensorflow as tf\n",
    "import os\n",
    "import random\n",
    "import numpy as np\n",
    "from tqdm import tqdm \n",
    "from skimage.io import imread, imshow\n",
    "from skimage.transform import resize\n",
    "import matplotlib.pyplot as plt\n",
    "from timeit import default_timer as timer\n",
    "import skimage.measure"
   ]
  },
  {
   "cell_type": "markdown",
   "metadata": {
    "id": "67U53XS0flZV"
   },
   "source": [
    "## Setting up the Data:\n",
    "- cleaning the data\n",
    "- splitting into train and test"
   ]
  },
  {
   "cell_type": "code",
   "execution_count": 9,
   "metadata": {
    "id": "eR8Cx4ithco2"
   },
   "outputs": [],
   "source": [
    "# define common variables:\n",
    "IMG_WIDTH = 128\n",
    "IMG_HEIGHT = 128\n",
    "IMG_CHANNELS = 3\n",
    "\n",
    "TRAIN_PATH = 'train/'\n",
    "TEST_PATH = 'test/'\n",
    "\n",
    "train_ids = next(os.walk(TRAIN_PATH))[1]\n",
    "test_ids = next(os.walk(TEST_PATH))[1]"
   ]
  },
  {
   "cell_type": "code",
   "execution_count": 10,
   "metadata": {
    "id": "CoawWq7_sOXx"
   },
   "outputs": [],
   "source": [
    "# define X train and Y train tensors:\n",
    "X_train = np.zeros((len(train_ids), IMG_HEIGHT, IMG_WIDTH, IMG_CHANNELS), dtype=np.uint8)\n",
    "Y_train = np.zeros((len(train_ids), IMG_HEIGHT, IMG_WIDTH, 1), dtype=np.bool)"
   ]
  },
  {
   "cell_type": "code",
   "execution_count": 11,
   "metadata": {
    "colab": {
     "base_uri": "https://localhost:8080/"
    },
    "id": "4FiHlA9mH6f9",
    "outputId": "3c6b6fb7-89a8-4044-a70f-a0247c7b81dd"
   },
   "outputs": [
    {
     "name": "stderr",
     "output_type": "stream",
     "text": [
      "100%|██████████| 670/670 [00:03<00:00, 171.92it/s]\n"
     ]
    }
   ],
   "source": [
    "for n, id_ in tqdm(enumerate(train_ids), total=len(train_ids)):   \n",
    "    path = TRAIN_PATH + id_\n",
    "    img = imread(path + '/images/' + id_ + '.png')"
   ]
  },
  {
   "cell_type": "code",
   "execution_count": 12,
   "metadata": {
    "colab": {
     "base_uri": "https://localhost:8080/"
    },
    "id": "H4cOomEiIpy4",
    "outputId": "52214bb9-7e9f-41f3-e3c8-edfa1ee62250"
   },
   "outputs": [
    {
     "name": "stderr",
     "output_type": "stream",
     "text": [
      "  0%|          | 2/670 [00:00<01:05, 10.25it/s]"
     ]
    },
    {
     "name": "stdout",
     "output_type": "stream",
     "text": [
      "\n",
      "Resizing training images and masks\n",
      "\n"
     ]
    },
    {
     "name": "stderr",
     "output_type": "stream",
     "text": [
      "100%|██████████| 670/670 [06:10<00:00,  1.81it/s]\n"
     ]
    }
   ],
   "source": [
    "# Data Cleaning:\n",
    "start = timer()\n",
    "\n",
    "print('\\nResizing training images and masks\\n')\n",
    "for n, id_ in tqdm(enumerate(train_ids), total=len(train_ids)):   \n",
    "    path = TRAIN_PATH + id_\n",
    "    img = imread(path + '/images/' + id_ + '.png')[:,:,:IMG_CHANNELS]  \n",
    "    img = resize(img, (IMG_HEIGHT, IMG_WIDTH), mode='constant', preserve_range=True)\n",
    "    X_train[n] = img  # Fill empty X_train with values from img\n",
    "    mask = np.zeros((IMG_HEIGHT, IMG_WIDTH, 1), dtype=np.bool)\n",
    "    for mask_file in next(os.walk(path + '/masks/'))[2]:\n",
    "        mask_ = imread(path + '/masks/' + mask_file)\n",
    "        mask_ = np.expand_dims(resize(mask_, (IMG_HEIGHT, IMG_WIDTH), mode='constant',  \n",
    "                                      preserve_range=True), axis=-1)\n",
    "        mask = np.maximum(mask, mask_)  \n",
    "            \n",
    "    Y_train[n] = mask   "
   ]
  },
  {
   "cell_type": "code",
   "execution_count": 13,
   "metadata": {
    "id": "6qMg813AsYN-"
   },
   "outputs": [],
   "source": [
    "# test images:\n",
    "X_test = np.zeros((len(test_ids), IMG_HEIGHT, IMG_WIDTH, IMG_CHANNELS), dtype=np.uint8)"
   ]
  },
  {
   "cell_type": "code",
   "execution_count": 14,
   "metadata": {
    "colab": {
     "base_uri": "https://localhost:8080/"
    },
    "id": "s2ktvRRGIxVq",
    "outputId": "45b9e8f4-9ecf-4737-90f8-e5805dffa712"
   },
   "outputs": [
    {
     "name": "stderr",
     "output_type": "stream",
     "text": [
      "  5%|▍         | 3/65 [00:00<00:02, 26.35it/s]"
     ]
    },
    {
     "name": "stdout",
     "output_type": "stream",
     "text": [
      "\n",
      "Resizing test images\n",
      "\n"
     ]
    },
    {
     "name": "stderr",
     "output_type": "stream",
     "text": [
      "100%|██████████| 65/65 [00:01<00:00, 38.00it/s]"
     ]
    },
    {
     "name": "stdout",
     "output_type": "stream",
     "text": [
      "\n",
      "Done!\n",
      "\n",
      "\n",
      "Time taken load data:  371.986062341 seconds\n",
      "\n"
     ]
    },
    {
     "name": "stderr",
     "output_type": "stream",
     "text": [
      "\n"
     ]
    }
   ],
   "source": [
    "# Data Cleaning:\n",
    "sizes_test = []\n",
    "print('\\nResizing test images\\n') \n",
    "for n, id_ in tqdm(enumerate(test_ids), total=len(test_ids)):\n",
    "    path = TEST_PATH + id_\n",
    "    img = imread(path + '/images/' + id_ + '.png')[:,:,:IMG_CHANNELS]\n",
    "    sizes_test.append([img.shape[0], img.shape[1]])\n",
    "    img = resize(img, (IMG_HEIGHT, IMG_WIDTH), mode='constant', preserve_range=True)\n",
    "    X_test[n] = img\n",
    "\n",
    "print('\\nDone!\\n')\n",
    "end = timer()\n",
    "print(\"\\nTime taken load data: \", end - start, \"seconds\\n\") "
   ]
  },
  {
   "cell_type": "code",
   "execution_count": 15,
   "metadata": {
    "colab": {
     "base_uri": "https://localhost:8080/"
    },
    "id": "x1vAxHeTTCjF",
    "outputId": "a89a4c55-0b71-4f3c-afd3-b1f6dd1b930a"
   },
   "outputs": [
    {
     "name": "stdout",
     "output_type": "stream",
     "text": [
      "(670, 128, 128, 3)\n",
      "(670, 128, 128, 1)\n",
      "(65, 128, 128, 3)\n"
     ]
    }
   ],
   "source": [
    "# check tensor shapes:\n",
    "X_train = tf.random.shuffle(X_train, seed=101).numpy()\n",
    "Y_train = tf.random.shuffle(Y_train, seed=101).numpy()\n",
    "print(X_train.shape)\n",
    "print(Y_train.shape)\n",
    "print(X_test.shape)"
   ]
  },
  {
   "cell_type": "code",
   "execution_count": 16,
   "metadata": {
    "colab": {
     "base_uri": "https://localhost:8080/",
     "height": 577
    },
    "id": "biitBgnjshwO",
    "outputId": "f98cd2f4-a404-422f-e02b-000ed8b3fb57"
   },
   "outputs": [
    {
     "data": {
      "image/png": "[encoded data removed]",
      "text/plain": [
       "<Figure size 432x288 with 1 Axes>"
      ]
     },
     "metadata": {
      "needs_background": "light"
     },
     "output_type": "display_data"
    },
    {
     "data": {
      "image/png": "[encoded data removed]",
      "text/plain": [
       "<Figure size 432x288 with 1 Axes>"
      ]
     },
     "metadata": {
      "needs_background": "light"
     },
     "output_type": "display_data"
    }
   ],
   "source": [
    "# display random x_train and y_train image:\n",
    "image_x = random.randint(0, len(train_ids))\n",
    "imshow(X_train[image_x])\n",
    "plt.show()\n",
    "imshow(np.squeeze(Y_train[image_x]))\n",
    "plt.show()"
   ]
  },
  {
   "cell_type": "markdown",
   "metadata": {},
   "source": [
    "## Model"
   ]
  },
  {
   "cell_type": "code",
   "execution_count": 17,
   "metadata": {
    "id": "d3OryuUqO-CB"
   },
   "outputs": [],
   "source": [
    "# FCN8 Model\n",
    "\n",
    "def fcn8(IMG_HEIGHT, IMG_WIDTH, IMG_CHANNELS, kernel_size):\n",
    "  inputs = tf.keras.layers.Input(shape=(None, None, IMG_CHANNELS))\n",
    "  s = tf.keras.layers.Lambda(lambda x: x / 255)(inputs) # converting to float so keras can handle it better\n",
    "\n",
    "  # Downsampling\n",
    "  c1 = tf.keras.layers.Conv2D(8, (3, 3), activation='relu', padding='same')(s)\n",
    "  # c1 = tf.keras.layers.Dropout(0.1)(c1)\n",
    "  c1 = tf.keras.layers.Conv2D(8, (3, 3), activation='relu', padding='same')(c1)\n",
    "  p1 = tf.keras.layers.MaxPooling2D((2, 2))(c1)\n",
    "\n",
    "  c2 = tf.keras.layers.Conv2D(16, (3, 3), activation='relu', padding='same')(p1)\n",
    "  # c2 = tf.keras.layers.Dropout(0.1)(c2)\n",
    "  c2 = tf.keras.layers.Conv2D(16, (3, 3), activation='relu', padding='same')(c2)\n",
    "  p2 = tf.keras.layers.MaxPooling2D((2, 2))(c2)\n",
    "\n",
    "  c3 = tf.keras.layers.Conv2D(32, (3, 3), activation='relu', padding='same')(p2)\n",
    "  c3 = tf.keras.layers.Conv2D(32, (3, 3), activation='relu', padding='same')(c3)\n",
    "  # c3 = tf.keras.layers.Dropout(0.2)(c3)\n",
    "  c3 = tf.keras.layers.Conv2D(32, (3, 3), activation='relu', padding='same')(c3)\n",
    "  p3 = tf.keras.layers.MaxPooling2D((2, 2))(c3)\n",
    "\n",
    "  c4 = tf.keras.layers.Conv2D(64, (3, 3), activation='relu', padding='same')(p3)\n",
    "  c4 = tf.keras.layers.Conv2D(64, (3, 3), activation='relu', padding='same')(c4)\n",
    "  # c4 = tf.keras.layers.Dropout(0.2)(c4)\n",
    "  c4 = tf.keras.layers.Conv2D(64, (3, 3), activation='relu', padding='same')(c4)\n",
    "  p4 = tf.keras.layers.MaxPooling2D((2, 2))(c4)\n",
    "\n",
    "  c5 = tf.keras.layers.Conv2D(64, (3, 3), activation='relu', padding='same')(p4)\n",
    "  c5 = tf.keras.layers.Conv2D(64, (3, 3), activation='relu', padding='same')(c5)\n",
    "  # c5 = tf.keras.layers.Dropout(0.3)(c5)\n",
    "  c5 = tf.keras.layers.Conv2D(64, (3, 3), activation='relu', padding='same')(c5)\n",
    "  p5 = tf.keras.layers.MaxPooling2D((2, 2))(c5)\n",
    "\n",
    "  c6 = tf.keras.layers.Conv2D(512, (7, 7), activation='relu', padding='same')(p5)\n",
    "  # c6 = tf.keras.layers.Dropout(0.5)(c6)\n",
    "  c6 = tf.keras.layers.Conv2D(512, (1, 1), activation='relu', padding='same')(c6)\n",
    "  c6 = tf.keras.layers.Dropout(0.5)(c6)\n",
    "\n",
    "  # Upsampling\n",
    "  # deconv 1\n",
    "  u1 = tf.keras.layers.Conv2DTranspose(1, kernel_size=kernel_size, strides=(2, 2), padding='same')(c6)\n",
    "\n",
    "  p4_n = tf.keras.layers.Conv2D(1, (2, 2), activation='relu', padding='same')(p4)\n",
    "\n",
    "  # deconv 2\n",
    "  u2 = tf.keras.layers.Add()([u1, p4_n])\n",
    "  u2 = tf.keras.layers.Conv2DTranspose(1, kernel_size=kernel_size, strides=(2, 2), padding='same')(u2)\n",
    "\n",
    "  p3_n = tf.keras.layers.Conv2D(1, (2, 2), activation='relu', padding='same')(p3)\n",
    "\n",
    "  \n",
    "  #deconv 3\n",
    "  u3 = tf.keras.layers.Add()([u2, p3_n])\n",
    "\n",
    "  # multiply top kernel size by 4:\n",
    "  outputs = tf.keras.layers.Conv2DTranspose(1, kernel_size=kernel_size*4, strides=(8, 8), padding='same', activation='sigmoid')(u3)\n",
    "\n",
    "  model = tf.keras.Model(inputs=[inputs], outputs=[outputs])\n",
    "  model.compile(optimizer='adam', loss='binary_crossentropy', metrics=['accuracy'])\n",
    "  model.summary()\n",
    "\n",
    "  return model\n"
   ]
  },
  {
   "cell_type": "code",
   "execution_count": 18,
   "metadata": {
    "colab": {
     "base_uri": "https://localhost:8080/"
    },
    "id": "foyhKBs2_zex",
    "outputId": "d36a1673-824a-426e-d4a0-7f893e548583"
   },
   "outputs": [
    {
     "name": "stdout",
     "output_type": "stream",
     "text": [
      "Model: \"model\"\n",
      "__________________________________________________________________________________________________\n",
      "Layer (type)                    Output Shape         Param #     Connected to                     \n",
      "==================================================================================================\n",
      "input_1 (InputLayer)            [(None, None, None,  0                                            \n",
      "__________________________________________________________________________________________________\n",
      "lambda (Lambda)                 (None, None, None, 3 0           input_1[0][0]                    \n",
      "__________________________________________________________________________________________________\n",
      "conv2d (Conv2D)                 (None, None, None, 8 224         lambda[0][0]                     \n",
      "__________________________________________________________________________________________________\n",
      "conv2d_1 (Conv2D)               (None, None, None, 8 584         conv2d[0][0]                     \n",
      "__________________________________________________________________________________________________\n",
      "max_pooling2d (MaxPooling2D)    (None, None, None, 8 0           conv2d_1[0][0]                   \n",
      "__________________________________________________________________________________________________\n",
      "conv2d_2 (Conv2D)               (None, None, None, 1 1168        max_pooling2d[0][0]              \n",
      "__________________________________________________________________________________________________\n",
      "conv2d_3 (Conv2D)               (None, None, None, 1 2320        conv2d_2[0][0]                   \n",
      "__________________________________________________________________________________________________\n",
      "max_pooling2d_1 (MaxPooling2D)  (None, None, None, 1 0           conv2d_3[0][0]                   \n",
      "__________________________________________________________________________________________________\n",
      "conv2d_4 (Conv2D)               (None, None, None, 3 4640        max_pooling2d_1[0][0]            \n",
      "__________________________________________________________________________________________________\n",
      "conv2d_5 (Conv2D)               (None, None, None, 3 9248        conv2d_4[0][0]                   \n",
      "__________________________________________________________________________________________________\n",
      "conv2d_6 (Conv2D)               (None, None, None, 3 9248        conv2d_5[0][0]                   \n",
      "__________________________________________________________________________________________________\n",
      "max_pooling2d_2 (MaxPooling2D)  (None, None, None, 3 0           conv2d_6[0][0]                   \n",
      "__________________________________________________________________________________________________\n",
      "conv2d_7 (Conv2D)               (None, None, None, 6 18496       max_pooling2d_2[0][0]            \n",
      "__________________________________________________________________________________________________\n",
      "conv2d_8 (Conv2D)               (None, None, None, 6 36928       conv2d_7[0][0]                   \n",
      "__________________________________________________________________________________________________\n",
      "conv2d_9 (Conv2D)               (None, None, None, 6 36928       conv2d_8[0][0]                   \n",
      "__________________________________________________________________________________________________\n",
      "max_pooling2d_3 (MaxPooling2D)  (None, None, None, 6 0           conv2d_9[0][0]                   \n",
      "__________________________________________________________________________________________________\n",
      "conv2d_10 (Conv2D)              (None, None, None, 6 36928       max_pooling2d_3[0][0]            \n",
      "__________________________________________________________________________________________________\n",
      "conv2d_11 (Conv2D)              (None, None, None, 6 36928       conv2d_10[0][0]                  \n",
      "__________________________________________________________________________________________________\n",
      "conv2d_12 (Conv2D)              (None, None, None, 6 36928       conv2d_11[0][0]                  \n",
      "__________________________________________________________________________________________________\n",
      "max_pooling2d_4 (MaxPooling2D)  (None, None, None, 6 0           conv2d_12[0][0]                  \n",
      "__________________________________________________________________________________________________\n",
      "conv2d_13 (Conv2D)              (None, None, None, 5 1606144     max_pooling2d_4[0][0]            \n",
      "__________________________________________________________________________________________________\n",
      "conv2d_14 (Conv2D)              (None, None, None, 5 262656      conv2d_13[0][0]                  \n",
      "__________________________________________________________________________________________________\n",
      "dropout (Dropout)               (None, None, None, 5 0           conv2d_14[0][0]                  \n",
      "__________________________________________________________________________________________________\n",
      "conv2d_transpose (Conv2DTranspo (None, None, None, 1 32769       dropout[0][0]                    \n",
      "__________________________________________________________________________________________________\n",
      "conv2d_15 (Conv2D)              (None, None, None, 1 257         max_pooling2d_3[0][0]            \n",
      "__________________________________________________________________________________________________\n",
      "add (Add)                       (None, None, None, 1 0           conv2d_transpose[0][0]           \n",
      "                                                                 conv2d_15[0][0]                  \n",
      "__________________________________________________________________________________________________\n",
      "conv2d_transpose_1 (Conv2DTrans (None, None, None, 1 65          add[0][0]                        \n",
      "__________________________________________________________________________________________________\n",
      "conv2d_16 (Conv2D)              (None, None, None, 1 129         max_pooling2d_2[0][0]            \n",
      "__________________________________________________________________________________________________\n",
      "add_1 (Add)                     (None, None, None, 1 0           conv2d_transpose_1[0][0]         \n",
      "                                                                 conv2d_16[0][0]                  \n",
      "__________________________________________________________________________________________________\n",
      "conv2d_transpose_2 (Conv2DTrans (None, None, None, 1 1025        add_1[0][0]                      \n",
      "==================================================================================================\n",
      "Total params: 2,133,613\n",
      "Trainable params: 2,133,613\n",
      "Non-trainable params: 0\n",
      "__________________________________________________________________________________________________\n"
     ]
    }
   ],
   "source": [
    "kernel_size = 8\n",
    "\n",
    "model = fcn8(IMG_HEIGHT, IMG_WIDTH, IMG_CHANNELS, kernel_size)"
   ]
  },
  {
   "cell_type": "code",
   "execution_count": 19,
   "metadata": {
    "colab": {
     "base_uri": "https://localhost:8080/"
    },
    "id": "h2c6g19jtPrP",
    "outputId": "c329b1b9-75e9-4c5a-e17d-05499193c586"
   },
   "outputs": [
    {
     "name": "stdout",
     "output_type": "stream",
     "text": [
      "Train on 536 samples, validate on 134 samples\n",
      "Epoch 1/200\n",
      "536/536 [==============================] - 13s 24ms/sample - loss: 0.6681 - accuracy: 0.7271 - val_loss: 0.6015 - val_accuracy: 0.7380\n",
      "Epoch 2/200\n",
      "536/536 [==============================] - 11s 21ms/sample - loss: 0.5625 - accuracy: 0.7781 - val_loss: 0.5364 - val_accuracy: 0.7959\n",
      "Epoch 3/200\n",
      "536/536 [==============================] - 11s 20ms/sample - loss: 0.5382 - accuracy: 0.7986 - val_loss: 0.5274 - val_accuracy: 0.7982\n",
      "Epoch 4/200\n",
      "536/536 [==============================] - 10s 19ms/sample - loss: 0.5134 - accuracy: 0.7995 - val_loss: 0.4975 - val_accuracy: 0.7986\n",
      "Epoch 5/200\n",
      "536/536 [==============================] - 11s 20ms/sample - loss: 0.4913 - accuracy: 0.7997 - val_loss: 0.4864 - val_accuracy: 0.7986\n",
      "Epoch 6/200\n",
      "536/536 [==============================] - 11s 21ms/sample - loss: 0.4665 - accuracy: 0.7995 - val_loss: 0.4552 - val_accuracy: 0.7985\n",
      "Epoch 7/200\n",
      "536/536 [==============================] - 11s 20ms/sample - loss: 0.4551 - accuracy: 0.7987 - val_loss: 0.4473 - val_accuracy: 0.7978\n",
      "Epoch 8/200\n",
      "536/536 [==============================] - 10s 18ms/sample - loss: 0.4460 - accuracy: 0.7981 - val_loss: 0.4499 - val_accuracy: 0.7980\n",
      "Epoch 9/200\n",
      "536/536 [==============================] - 10s 19ms/sample - loss: 0.4407 - accuracy: 0.7980 - val_loss: 0.4407 - val_accuracy: 0.7975\n",
      "Epoch 10/200\n",
      "536/536 [==============================] - 10s 19ms/sample - loss: 0.4364 - accuracy: 0.7984 - val_loss: 0.4332 - val_accuracy: 0.7969\n",
      "Epoch 11/200\n",
      "536/536 [==============================] - 10s 19ms/sample - loss: 0.4289 - accuracy: 0.7983 - val_loss: 0.4280 - val_accuracy: 0.7966\n",
      "Epoch 12/200\n",
      "536/536 [==============================] - 11s 20ms/sample - loss: 0.4225 - accuracy: 0.7992 - val_loss: 0.4219 - val_accuracy: 0.7978\n",
      "Epoch 13/200\n",
      "536/536 [==============================] - 11s 20ms/sample - loss: 0.4148 - accuracy: 0.8002 - val_loss: 0.4137 - val_accuracy: 0.8005\n",
      "Epoch 14/200\n",
      "536/536 [==============================] - 10s 19ms/sample - loss: 0.4124 - accuracy: 0.8009 - val_loss: 0.4068 - val_accuracy: 0.8011\n",
      "Epoch 15/200\n",
      "536/536 [==============================] - 10s 18ms/sample - loss: 0.4006 - accuracy: 0.8042 - val_loss: 0.3965 - val_accuracy: 0.8030\n",
      "Epoch 16/200\n",
      "536/536 [==============================] - 10s 18ms/sample - loss: 0.3930 - accuracy: 0.8078 - val_loss: 0.4105 - val_accuracy: 0.8034\n",
      "Epoch 17/200\n",
      "536/536 [==============================] - 10s 18ms/sample - loss: 0.3838 - accuracy: 0.8130 - val_loss: 0.3768 - val_accuracy: 0.8128\n",
      "Epoch 18/200\n",
      "536/536 [==============================] - 10s 18ms/sample - loss: 0.3640 - accuracy: 0.8192 - val_loss: 0.3546 - val_accuracy: 0.8213\n",
      "Epoch 19/200\n",
      "536/536 [==============================] - 10s 18ms/sample - loss: 0.3430 - accuracy: 0.8311 - val_loss: 0.3385 - val_accuracy: 0.8274\n",
      "Epoch 20/200\n",
      "536/536 [==============================] - 10s 18ms/sample - loss: 0.3273 - accuracy: 0.8399 - val_loss: 0.3153 - val_accuracy: 0.8370\n",
      "Epoch 21/200\n",
      "536/536 [==============================] - 10s 19ms/sample - loss: 0.3131 - accuracy: 0.8466 - val_loss: 0.3095 - val_accuracy: 0.8493\n",
      "Epoch 22/200\n",
      "536/536 [==============================] - 11s 20ms/sample - loss: 0.2947 - accuracy: 0.8568 - val_loss: 0.2919 - val_accuracy: 0.8571\n",
      "Epoch 23/200\n",
      "536/536 [==============================] - 10s 18ms/sample - loss: 0.2865 - accuracy: 0.8629 - val_loss: 0.2885 - val_accuracy: 0.8544\n",
      "Epoch 24/200\n",
      "536/536 [==============================] - 9s 17ms/sample - loss: 0.2784 - accuracy: 0.8659 - val_loss: 0.2810 - val_accuracy: 0.8578\n",
      "Epoch 25/200\n",
      "536/536 [==============================] - 10s 18ms/sample - loss: 0.2678 - accuracy: 0.8715 - val_loss: 0.2857 - val_accuracy: 0.8620\n",
      "Epoch 26/200\n",
      "536/536 [==============================] - 10s 19ms/sample - loss: 0.2676 - accuracy: 0.8736 - val_loss: 0.2603 - val_accuracy: 0.8718\n",
      "Epoch 27/200\n",
      "536/536 [==============================] - 10s 19ms/sample - loss: 0.2468 - accuracy: 0.8820 - val_loss: 0.2518 - val_accuracy: 0.8804\n",
      "Epoch 28/200\n",
      "536/536 [==============================] - 10s 19ms/sample - loss: 0.2397 - accuracy: 0.8868 - val_loss: 0.2450 - val_accuracy: 0.8841\n",
      "Epoch 29/200\n",
      "536/536 [==============================] - 11s 20ms/sample - loss: 0.2310 - accuracy: 0.8921 - val_loss: 0.2343 - val_accuracy: 0.8912\n",
      "Epoch 30/200\n",
      "536/536 [==============================] - 10s 18ms/sample - loss: 0.2252 - accuracy: 0.8955 - val_loss: 0.2261 - val_accuracy: 0.8939\n",
      "Epoch 31/200\n",
      "536/536 [==============================] - 9s 17ms/sample - loss: 0.2169 - accuracy: 0.8998 - val_loss: 0.2207 - val_accuracy: 0.8989\n",
      "Epoch 32/200\n",
      "536/536 [==============================] - 10s 18ms/sample - loss: 0.2179 - accuracy: 0.8999 - val_loss: 0.2192 - val_accuracy: 0.8984\n",
      "Epoch 33/200\n",
      "536/536 [==============================] - 10s 18ms/sample - loss: 0.2221 - accuracy: 0.8985 - val_loss: 0.2194 - val_accuracy: 0.9001\n",
      "Epoch 34/200\n",
      "536/536 [==============================] - 11s 20ms/sample - loss: 0.2101 - accuracy: 0.9043 - val_loss: 0.2143 - val_accuracy: 0.9026\n",
      "Epoch 35/200\n",
      "536/536 [==============================] - 10s 19ms/sample - loss: 0.2021 - accuracy: 0.9080 - val_loss: 0.2088 - val_accuracy: 0.9049\n",
      "Epoch 36/200\n",
      "536/536 [==============================] - 11s 21ms/sample - loss: 0.2024 - accuracy: 0.9076 - val_loss: 0.2088 - val_accuracy: 0.9050\n",
      "Epoch 37/200\n",
      "536/536 [==============================] - 10s 19ms/sample - loss: 0.2026 - accuracy: 0.9074 - val_loss: 0.2169 - val_accuracy: 0.8993\n",
      "Epoch 38/200\n",
      "536/536 [==============================] - 10s 18ms/sample - loss: 0.1980 - accuracy: 0.9098 - val_loss: 0.2156 - val_accuracy: 0.8989\n",
      "Epoch 39/200\n",
      "536/536 [==============================] - 9s 18ms/sample - loss: 0.1975 - accuracy: 0.9101 - val_loss: 0.2030 - val_accuracy: 0.9085\n",
      "Epoch 40/200\n",
      "536/536 [==============================] - 10s 19ms/sample - loss: 0.1970 - accuracy: 0.9104 - val_loss: 0.2125 - val_accuracy: 0.9012\n",
      "Epoch 41/200\n",
      "536/536 [==============================] - 9s 17ms/sample - loss: 0.1910 - accuracy: 0.9130 - val_loss: 0.1993 - val_accuracy: 0.9086\n",
      "Epoch 42/200\n",
      "536/536 [==============================] - 10s 18ms/sample - loss: 0.1864 - accuracy: 0.9152 - val_loss: 0.2081 - val_accuracy: 0.9051\n",
      "Epoch 43/200\n",
      "536/536 [==============================] - 14s 26ms/sample - loss: 0.1923 - accuracy: 0.9125 - val_loss: 0.2059 - val_accuracy: 0.9061\n",
      "Epoch 44/200\n",
      "536/536 [==============================] - 10s 19ms/sample - loss: 0.1877 - accuracy: 0.9153 - val_loss: 0.1999 - val_accuracy: 0.9096\n",
      "Epoch 45/200\n",
      "536/536 [==============================] - 11s 20ms/sample - loss: 0.1829 - accuracy: 0.9173 - val_loss: 0.1990 - val_accuracy: 0.9087\n",
      "Epoch 46/200\n",
      "536/536 [==============================] - 10s 18ms/sample - loss: 0.1813 - accuracy: 0.9178 - val_loss: 0.1988 - val_accuracy: 0.9100\n",
      "Epoch 47/200\n",
      "536/536 [==============================] - 10s 19ms/sample - loss: 0.1823 - accuracy: 0.9176 - val_loss: 0.1992 - val_accuracy: 0.9085\n",
      "Epoch 48/200\n",
      "536/536 [==============================] - 10s 20ms/sample - loss: 0.1792 - accuracy: 0.9187 - val_loss: 0.1907 - val_accuracy: 0.9143\n",
      "Epoch 49/200\n",
      "536/536 [==============================] - 10s 19ms/sample - loss: 0.1765 - accuracy: 0.9202 - val_loss: 0.1906 - val_accuracy: 0.9132\n",
      "Epoch 50/200\n",
      "536/536 [==============================] - 11s 20ms/sample - loss: 0.1762 - accuracy: 0.9203 - val_loss: 0.1943 - val_accuracy: 0.9120\n",
      "Epoch 51/200\n",
      "536/536 [==============================] - 12s 23ms/sample - loss: 0.1764 - accuracy: 0.9200 - val_loss: 0.1926 - val_accuracy: 0.9129\n",
      "Epoch 52/200\n",
      "536/536 [==============================] - 11s 21ms/sample - loss: 0.1731 - accuracy: 0.9219 - val_loss: 0.1892 - val_accuracy: 0.9139\n",
      "Epoch 53/200\n",
      "536/536 [==============================] - 11s 20ms/sample - loss: 0.1720 - accuracy: 0.9220 - val_loss: 0.1963 - val_accuracy: 0.9119\n",
      "Epoch 54/200\n",
      "536/536 [==============================] - 11s 20ms/sample - loss: 0.1710 - accuracy: 0.9228 - val_loss: 0.1867 - val_accuracy: 0.9154\n",
      "Epoch 55/200\n",
      "536/536 [==============================] - 10s 19ms/sample - loss: 0.1700 - accuracy: 0.9230 - val_loss: 0.1870 - val_accuracy: 0.9156\n",
      "Epoch 56/200\n",
      "536/536 [==============================] - 10s 19ms/sample - loss: 0.1669 - accuracy: 0.9245 - val_loss: 0.1884 - val_accuracy: 0.9148\n",
      "Epoch 57/200\n",
      "536/536 [==============================] - 10s 18ms/sample - loss: 0.1660 - accuracy: 0.9252 - val_loss: 0.1895 - val_accuracy: 0.9149\n",
      "Epoch 58/200\n",
      "536/536 [==============================] - 10s 19ms/sample - loss: 0.1660 - accuracy: 0.9247 - val_loss: 0.1858 - val_accuracy: 0.9169\n",
      "Epoch 59/200\n",
      "536/536 [==============================] - 10s 18ms/sample - loss: 0.1642 - accuracy: 0.9259 - val_loss: 0.1881 - val_accuracy: 0.9153\n",
      "Epoch 60/200\n",
      "536/536 [==============================] - 11s 20ms/sample - loss: 0.1652 - accuracy: 0.9251 - val_loss: 0.1862 - val_accuracy: 0.9161\n",
      "Epoch 61/200\n",
      "536/536 [==============================] - 10s 19ms/sample - loss: 0.1687 - accuracy: 0.9236 - val_loss: 0.1905 - val_accuracy: 0.9146\n",
      "Epoch 62/200\n",
      "536/536 [==============================] - 12s 21ms/sample - loss: 0.1669 - accuracy: 0.9248 - val_loss: 0.1869 - val_accuracy: 0.9160\n",
      "Epoch 63/200\n",
      "536/536 [==============================] - 11s 21ms/sample - loss: 0.1652 - accuracy: 0.9253 - val_loss: 0.1846 - val_accuracy: 0.9174\n",
      "Epoch 64/200\n",
      "536/536 [==============================] - 10s 20ms/sample - loss: 0.1638 - accuracy: 0.9259 - val_loss: 0.1862 - val_accuracy: 0.9153\n",
      "Epoch 65/200\n",
      "536/536 [==============================] - 10s 19ms/sample - loss: 0.1597 - accuracy: 0.9277 - val_loss: 0.1807 - val_accuracy: 0.9190\n",
      "Epoch 66/200\n",
      "536/536 [==============================] - 10s 19ms/sample - loss: 0.1576 - accuracy: 0.9287 - val_loss: 0.1821 - val_accuracy: 0.9182\n",
      "Epoch 67/200\n",
      "536/536 [==============================] - 10s 19ms/sample - loss: 0.1569 - accuracy: 0.9288 - val_loss: 0.1798 - val_accuracy: 0.9193\n",
      "Epoch 68/200\n",
      "536/536 [==============================] - 10s 19ms/sample - loss: 0.1570 - accuracy: 0.9288 - val_loss: 0.1818 - val_accuracy: 0.9187\n",
      "Epoch 69/200\n",
      "536/536 [==============================] - 10s 19ms/sample - loss: 0.1563 - accuracy: 0.9293 - val_loss: 0.1818 - val_accuracy: 0.9180\n",
      "Epoch 70/200\n",
      "536/536 [==============================] - 11s 20ms/sample - loss: 0.1567 - accuracy: 0.9290 - val_loss: 0.1839 - val_accuracy: 0.9173\n",
      "Epoch 71/200\n",
      "536/536 [==============================] - 11s 20ms/sample - loss: 0.1550 - accuracy: 0.9297 - val_loss: 0.1821 - val_accuracy: 0.9183\n",
      "Epoch 72/200\n",
      "536/536 [==============================] - 10s 19ms/sample - loss: 0.1543 - accuracy: 0.9298 - val_loss: 0.1799 - val_accuracy: 0.9194\n",
      "\n",
      "Time taken for Model to Run:  746.150588282 seconds\n",
      "\n"
     ]
    }
   ],
   "source": [
    "#Modelcheckpoint\n",
    "# checkpointer = tf.keras.callbacks.ModelCheckpoint('model_for_nuclei_3.h5', verbose=1, save_best_only=True)\n",
    "\n",
    "callbacks = [\n",
    "        tf.keras.callbacks.EarlyStopping(patience=5, monitor='val_loss'),\n",
    "        # tf.keras.callbacks.EarlyStopping(patience=5, monitor='accuracy'),\n",
    "        # tf.keras.callbacks.TensorBoard(log_dir='logs', histogram_freq=1)\n",
    "]\n",
    "\n",
    "start = timer()\n",
    "\n",
    "results = model.fit(X_train, Y_train, validation_split=0.2, batch_size=32, epochs=200, callbacks=callbacks)\n",
    "# results = model.fit(X_train[:100], Y_train[:100], epochs=250, callbacks=callbacks)\n",
    "\n",
    "end = timer()\n",
    "print(\"\\nTime taken for Model to Run: \", end - start, \"seconds\\n\") "
   ]
  },
  {
   "cell_type": "code",
   "execution_count": 20,
   "metadata": {
    "colab": {
     "base_uri": "https://localhost:8080/",
     "height": 573
    },
    "id": "Hhrz1VjdRdx_",
    "outputId": "753b50f7-e6fe-4b29-dc71-2cfb43186455"
   },
   "outputs": [
    {
     "data": {
      "image/png": "[encoded data removed]",
      "text/plain": [
       "<Figure size 432x288 with 1 Axes>"
      ]
     },
     "metadata": {
      "needs_background": "light"
     },
     "output_type": "display_data"
    },
    {
     "data": {
      "image/png": "[encoded data removed]",
      "text/plain": [
       "<Figure size 432x288 with 1 Axes>"
      ]
     },
     "metadata": {
      "needs_background": "light"
     },
     "output_type": "display_data"
    }
   ],
   "source": [
    "#plot the training and validation accuracy and loss at each epoch\n",
    "loss = results.history['loss']\n",
    "val_loss = results.history['val_loss']\n",
    "epochs = range(1, len(loss) + 1)\n",
    "plt.plot(epochs, loss, 'y', label='Training loss')\n",
    "plt.plot(epochs, val_loss, 'r', label='Validation loss')\n",
    "plt.title('Training and validation loss')\n",
    "plt.xlabel('Epochs')\n",
    "plt.ylabel('Loss')\n",
    "plt.legend()\n",
    "plt.show()\n",
    "\n",
    "acc = results.history['accuracy']\n",
    "val_acc = results.history['val_accuracy']\n",
    "plt.plot(epochs, acc, 'y', label='Training acc')\n",
    "plt.plot(epochs, val_acc, 'r', label='Validation acc')\n",
    "plt.title('Training and validation accuracy')\n",
    "plt.xlabel('Epochs')\n",
    "plt.ylabel('Accuracy')\n",
    "plt.legend()\n",
    "plt.show()"
   ]
  },
  {
   "cell_type": "markdown",
   "metadata": {},
   "source": [
    "## Predictions with Trained Model"
   ]
  },
  {
   "cell_type": "code",
   "execution_count": 21,
   "metadata": {
    "colab": {
     "base_uri": "https://localhost:8080/"
    },
    "id": "yP45r07KtUy9",
    "outputId": "8f04dde3-fc8b-4e73-fd9b-d6471e67dc83"
   },
   "outputs": [
    {
     "name": "stdout",
     "output_type": "stream",
     "text": [
      "670/670 [==============================] - 3s 5ms/sample\n",
      "65/65 [==============================] - 0s 6ms/sample\n"
     ]
    }
   ],
   "source": [
    "preds_train = model.predict(X_train, verbose=1)\n",
    "preds_test = model.predict(X_test, verbose=1)\n",
    "\n",
    " \n",
    "preds_train_t = (preds_train > 0.5).astype(np.uint8)\n",
    "preds_test_t = (preds_test > 0.5).astype(np.uint8)"
   ]
  },
  {
   "cell_type": "code",
   "execution_count": 30,
   "metadata": {
    "colab": {
     "base_uri": "https://localhost:8080/",
     "height": 303
    },
    "id": "ykeTAwSszW7r",
    "outputId": "8b1c8747-6239-491b-e7f4-9692c3e29307"
   },
   "outputs": [
    {
     "data": {
      "image/png": "[encoded data removed]",
      "text/plain": [
       "<Figure size 1080x720 with 4 Axes>"
      ]
     },
     "metadata": {
      "needs_background": "light"
     },
     "output_type": "display_data"
    }
   ],
   "source": [
    "# Perform predictions on some training samples\n",
    "ix = random.randint(0, len(preds_train_t))\n",
    "\n",
    "fig, ax = plt.subplots(nrows=1, ncols=4, figsize=(15,10))\n",
    "\n",
    "ax[0].set_title(\"Input\")\n",
    "ax[0].imshow(X_train[ix])\n",
    "\n",
    "ax[1].set_title(\"Ground Truth\")\n",
    "ax[1].imshow(np.squeeze(Y_train[ix]))\n",
    "\n",
    "ax[2].set_title(\"Predicted w/o Threshold\")\n",
    "ax[2].imshow(np.squeeze(preds_train[ix]), cmap='gray')\n",
    "\n",
    "ax[3].set_title(\"Predicted with Threshold\")\n",
    "ax[3].imshow(np.squeeze(preds_train_t[ix]), cmap='gray')\n",
    "\n",
    "for a in ax:\n",
    "  a.axis(\"off\")\n",
    "\n",
    "plt.tight_layout()\n",
    "plt.show()\n"
   ]
  },
  {
   "cell_type": "markdown",
   "metadata": {},
   "source": [
    "## Simple Metrics"
   ]
  },
  {
   "cell_type": "code",
   "execution_count": 31,
   "metadata": {
    "colab": {
     "base_uri": "https://localhost:8080/"
    },
    "id": "h1vv6GXxgPkd",
    "outputId": "e8e7c6e6-f129-4013-fa56-a2f5586b9e96"
   },
   "outputs": [
    {
     "name": "stdout",
     "output_type": "stream",
     "text": [
      "IOU score:  0.7\n"
     ]
    }
   ],
   "source": [
    "# function to calculate Intersection Over Union (IOU) score:\n",
    "def iou_score(truth, predicted):\n",
    "    intersection = np.logical_and(truth, predicted)\n",
    "    union = np.logical_or(truth, predicted)\n",
    "    iou_score = np.sum(intersection) / np.sum(union)\n",
    "    \n",
    "    return iou_score\n",
    "\n",
    "iou = iou_score(Y_train, preds_train_t)\n",
    "print(\"IOU score: \", round(iou, 2))"
   ]
  },
  {
   "cell_type": "code",
   "execution_count": 32,
   "metadata": {
    "colab": {
     "base_uri": "https://localhost:8080/"
    },
    "id": "sZ9mhNKJhwIF",
    "outputId": "e2b30e80-9cd7-4d69-ab08-8f6d747c806d"
   },
   "outputs": [
    {
     "name": "stdout",
     "output_type": "stream",
     "text": [
      "mask w/ threshold cell count:  3\n"
     ]
    }
   ],
   "source": [
    "# utilize connected component analysis (CCA) to count cells in random (ix) image:\n",
    "labeled_image = skimage.measure.label(preds_train_t[ix], connectivity=2, return_num=True)\n",
    "\n",
    "print(\"mask w/ threshold cell count: \", np.max(labeled_image[0]))"
   ]
  },
  {
   "cell_type": "code",
   "execution_count": 33,
   "metadata": {
    "colab": {
     "base_uri": "https://localhost:8080/",
     "height": 273
    },
    "id": "7vgPoggxDWUW",
    "outputId": "c0734f83-d1c2-4fdf-9b4b-b8cd0dd92299"
   },
   "outputs": [
    {
     "data": {
      "image/png": "[encoded data removed]",
      "text/plain": [
       "<Figure size 720x720 with 3 Axes>"
      ]
     },
     "metadata": {
      "needs_background": "light"
     },
     "output_type": "display_data"
    }
   ],
   "source": [
    "# Perform predictions on some testing samples\n",
    "ix = random.randint(0, len(preds_test_t))\n",
    "\n",
    "fig, ax = plt.subplots(nrows=1, ncols=3, figsize=(10,10))\n",
    "\n",
    "ax[0].set_title(\"Input\")\n",
    "ax[0].imshow(X_test[ix])\n",
    "\n",
    "ax[1].set_title(\"Predicted w/o Threshold\")\n",
    "ax[1].imshow(np.squeeze(preds_test[ix]), cmap='gray')\n",
    "\n",
    "ax[2].set_title(\"Predicted with Threshold\")\n",
    "ax[2].imshow(np.squeeze(preds_test_t[ix]), cmap='gray')\n",
    "\n",
    "for a in ax:\n",
    "  a.axis(\"off\")\n",
    "\n",
    "plt.tight_layout()\n",
    "plt.show()\n"
   ]
  },
  {
   "cell_type": "code",
   "execution_count": 26,
   "metadata": {
    "id": "QhbQifi9Iw74"
   },
   "outputs": [],
   "source": [
    "# %load_ext tensorboard\n",
    "# %tensorboard --logdir logs"
   ]
  },
  {
   "cell_type": "code",
   "execution_count": 27,
   "metadata": {
    "id": "KALf2yITF2uh"
   },
   "outputs": [],
   "source": [
    "# !rm -r logs"
   ]
  },
  {
   "cell_type": "code",
   "execution_count": 28,
   "metadata": {
    "id": "oRO78dyjRr9F"
   },
   "outputs": [],
   "source": [
    "# save model\n",
    "# model.save('fcn_model_92.h5')\n",
    "\n",
    "# checkpoint_filepath = 'nuclei_model_3.h5'\n",
    "# model.load_weights(checkpoint_filepath)"
   ]
  },
  {
   "cell_type": "code",
   "execution_count": 29,
   "metadata": {
    "id": "24WCQV32MbTh"
   },
   "outputs": [],
   "source": [
    "# tf.keras.utils.plot_model(\n",
    "#     model, to_file='model.png', show_shapes=False, show_layer_names=True,\n",
    "#     rankdir='TB', expand_nested=False, dpi=96\n",
    "# )"
   ]
  },
  {
   "cell_type": "code",
   "execution_count": null,
   "metadata": {
    "id": "3Si1FYNWRCKE"
   },
   "outputs": [],
   "source": []
  }
 ],
 "metadata": {
  "accelerator": "TPU",
  "colab": {
   "collapsed_sections": [],
   "name": "blob_segmentation_from_yt.ipynb",
   "provenance": []
  },
  "kernelspec": {
   "display_name": "Python 3",
   "language": "python",
   "name": "python3"
  },
  "language_info": {
   "codemirror_mode": {
    "name": "ipython",
    "version": 3
   },
   "file_extension": ".py",
   "mimetype": "text/x-python",
   "name": "python",
   "nbconvert_exporter": "python",
   "pygments_lexer": "ipython3",
   "version": "3.7.7"
  }
 },
 "nbformat": 4,
 "nbformat_minor": 1
}
